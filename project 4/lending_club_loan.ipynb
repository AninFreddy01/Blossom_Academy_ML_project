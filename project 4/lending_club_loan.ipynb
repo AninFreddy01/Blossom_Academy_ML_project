{
 "cells": [
  {
   "cell_type": "code",
   "execution_count": 96,
   "metadata": {},
   "outputs": [],
   "source": [
    "import pandas as pd\n",
    "import numpy as np\n",
    "import seaborn as sns\n",
    "import matplotlib.pyplot as plt"
   ]
  },
  {
   "cell_type": "code",
   "execution_count": 97,
   "metadata": {},
   "outputs": [
    {
     "data": {
      "text/html": [
       "<div>\n",
       "<style scoped>\n",
       "    .dataframe tbody tr th:only-of-type {\n",
       "        vertical-align: middle;\n",
       "    }\n",
       "\n",
       "    .dataframe tbody tr th {\n",
       "        vertical-align: top;\n",
       "    }\n",
       "\n",
       "    .dataframe thead th {\n",
       "        text-align: right;\n",
       "    }\n",
       "</style>\n",
       "<table border=\"1\" class=\"dataframe\">\n",
       "  <thead>\n",
       "    <tr style=\"text-align: right;\">\n",
       "      <th></th>\n",
       "      <th>id</th>\n",
       "      <th>member_id</th>\n",
       "      <th>loan_amnt</th>\n",
       "      <th>funded_amnt</th>\n",
       "      <th>funded_amnt_inv</th>\n",
       "      <th>term</th>\n",
       "      <th>int_rate</th>\n",
       "      <th>installment</th>\n",
       "      <th>grade</th>\n",
       "      <th>sub_grade</th>\n",
       "      <th>...</th>\n",
       "      <th>hardship_payoff_balance_amount</th>\n",
       "      <th>hardship_last_payment_amount</th>\n",
       "      <th>disbursement_method</th>\n",
       "      <th>debt_settlement_flag</th>\n",
       "      <th>debt_settlement_flag_date</th>\n",
       "      <th>settlement_status</th>\n",
       "      <th>settlement_date</th>\n",
       "      <th>settlement_amount</th>\n",
       "      <th>settlement_percentage</th>\n",
       "      <th>settlement_term</th>\n",
       "    </tr>\n",
       "  </thead>\n",
       "  <tbody>\n",
       "    <tr>\n",
       "      <th>0</th>\n",
       "      <td>NaN</td>\n",
       "      <td>NaN</td>\n",
       "      <td>22000</td>\n",
       "      <td>22000</td>\n",
       "      <td>22000.0</td>\n",
       "      <td>36 months</td>\n",
       "      <td>9.17</td>\n",
       "      <td>701.34</td>\n",
       "      <td>B</td>\n",
       "      <td>B2</td>\n",
       "      <td>...</td>\n",
       "      <td>NaN</td>\n",
       "      <td>NaN</td>\n",
       "      <td>Cash</td>\n",
       "      <td>N</td>\n",
       "      <td>NaN</td>\n",
       "      <td>NaN</td>\n",
       "      <td>NaN</td>\n",
       "      <td>NaN</td>\n",
       "      <td>NaN</td>\n",
       "      <td>NaN</td>\n",
       "    </tr>\n",
       "    <tr>\n",
       "      <th>1</th>\n",
       "      <td>NaN</td>\n",
       "      <td>NaN</td>\n",
       "      <td>8000</td>\n",
       "      <td>8000</td>\n",
       "      <td>8000.0</td>\n",
       "      <td>36 months</td>\n",
       "      <td>5.32</td>\n",
       "      <td>240.92</td>\n",
       "      <td>A</td>\n",
       "      <td>A1</td>\n",
       "      <td>...</td>\n",
       "      <td>NaN</td>\n",
       "      <td>NaN</td>\n",
       "      <td>Cash</td>\n",
       "      <td>N</td>\n",
       "      <td>NaN</td>\n",
       "      <td>NaN</td>\n",
       "      <td>NaN</td>\n",
       "      <td>NaN</td>\n",
       "      <td>NaN</td>\n",
       "      <td>NaN</td>\n",
       "    </tr>\n",
       "    <tr>\n",
       "      <th>2</th>\n",
       "      <td>NaN</td>\n",
       "      <td>NaN</td>\n",
       "      <td>6000</td>\n",
       "      <td>6000</td>\n",
       "      <td>6000.0</td>\n",
       "      <td>36 months</td>\n",
       "      <td>9.75</td>\n",
       "      <td>192.90</td>\n",
       "      <td>B</td>\n",
       "      <td>B3</td>\n",
       "      <td>...</td>\n",
       "      <td>NaN</td>\n",
       "      <td>NaN</td>\n",
       "      <td>Cash</td>\n",
       "      <td>N</td>\n",
       "      <td>NaN</td>\n",
       "      <td>NaN</td>\n",
       "      <td>NaN</td>\n",
       "      <td>NaN</td>\n",
       "      <td>NaN</td>\n",
       "      <td>NaN</td>\n",
       "    </tr>\n",
       "    <tr>\n",
       "      <th>3</th>\n",
       "      <td>NaN</td>\n",
       "      <td>NaN</td>\n",
       "      <td>5300</td>\n",
       "      <td>5300</td>\n",
       "      <td>5300.0</td>\n",
       "      <td>36 months</td>\n",
       "      <td>12.39</td>\n",
       "      <td>177.03</td>\n",
       "      <td>C</td>\n",
       "      <td>C1</td>\n",
       "      <td>...</td>\n",
       "      <td>NaN</td>\n",
       "      <td>NaN</td>\n",
       "      <td>Cash</td>\n",
       "      <td>N</td>\n",
       "      <td>NaN</td>\n",
       "      <td>NaN</td>\n",
       "      <td>NaN</td>\n",
       "      <td>NaN</td>\n",
       "      <td>NaN</td>\n",
       "      <td>NaN</td>\n",
       "    </tr>\n",
       "    <tr>\n",
       "      <th>4</th>\n",
       "      <td>NaN</td>\n",
       "      <td>NaN</td>\n",
       "      <td>8000</td>\n",
       "      <td>8000</td>\n",
       "      <td>8000.0</td>\n",
       "      <td>36 months</td>\n",
       "      <td>12.49</td>\n",
       "      <td>267.60</td>\n",
       "      <td>B</td>\n",
       "      <td>B5</td>\n",
       "      <td>...</td>\n",
       "      <td>NaN</td>\n",
       "      <td>NaN</td>\n",
       "      <td>Cash</td>\n",
       "      <td>N</td>\n",
       "      <td>NaN</td>\n",
       "      <td>NaN</td>\n",
       "      <td>NaN</td>\n",
       "      <td>NaN</td>\n",
       "      <td>NaN</td>\n",
       "      <td>NaN</td>\n",
       "    </tr>\n",
       "  </tbody>\n",
       "</table>\n",
       "<p>5 rows × 145 columns</p>\n",
       "</div>"
      ],
      "text/plain": [
       "   id  member_id  loan_amnt  funded_amnt  funded_amnt_inv        term  \\\n",
       "0 NaN        NaN      22000        22000          22000.0   36 months   \n",
       "1 NaN        NaN       8000         8000           8000.0   36 months   \n",
       "2 NaN        NaN       6000         6000           6000.0   36 months   \n",
       "3 NaN        NaN       5300         5300           5300.0   36 months   \n",
       "4 NaN        NaN       8000         8000           8000.0   36 months   \n",
       "\n",
       "   int_rate  installment grade sub_grade  ... hardship_payoff_balance_amount  \\\n",
       "0      9.17       701.34     B        B2  ...                            NaN   \n",
       "1      5.32       240.92     A        A1  ...                            NaN   \n",
       "2      9.75       192.90     B        B3  ...                            NaN   \n",
       "3     12.39       177.03     C        C1  ...                            NaN   \n",
       "4     12.49       267.60     B        B5  ...                            NaN   \n",
       "\n",
       "  hardship_last_payment_amount disbursement_method  debt_settlement_flag  \\\n",
       "0                          NaN                Cash                     N   \n",
       "1                          NaN                Cash                     N   \n",
       "2                          NaN                Cash                     N   \n",
       "3                          NaN                Cash                     N   \n",
       "4                          NaN                Cash                     N   \n",
       "\n",
       "  debt_settlement_flag_date settlement_status  settlement_date  \\\n",
       "0                       NaN               NaN              NaN   \n",
       "1                       NaN               NaN              NaN   \n",
       "2                       NaN               NaN              NaN   \n",
       "3                       NaN               NaN              NaN   \n",
       "4                       NaN               NaN              NaN   \n",
       "\n",
       "  settlement_amount  settlement_percentage settlement_term  \n",
       "0               NaN                    NaN             NaN  \n",
       "1               NaN                    NaN             NaN  \n",
       "2               NaN                    NaN             NaN  \n",
       "3               NaN                    NaN             NaN  \n",
       "4               NaN                    NaN             NaN  \n",
       "\n",
       "[5 rows x 145 columns]"
      ]
     },
     "execution_count": 97,
     "metadata": {},
     "output_type": "execute_result"
    }
   ],
   "source": [
    "df = pd.read_csv('loan_sample.csv')\n",
    "df.head()"
   ]
  },
  {
   "cell_type": "code",
   "execution_count": 98,
   "metadata": {},
   "outputs": [
    {
     "data": {
      "text/plain": [
       "(127314, 145)"
      ]
     },
     "execution_count": 98,
     "metadata": {},
     "output_type": "execute_result"
    }
   ],
   "source": [
    "df.shape"
   ]
  },
  {
   "cell_type": "code",
   "execution_count": 99,
   "metadata": {},
   "outputs": [
    {
     "data": {
      "text/plain": [
       "id                       float64\n",
       "member_id                float64\n",
       "loan_amnt                  int64\n",
       "funded_amnt                int64\n",
       "funded_amnt_inv          float64\n",
       "                          ...   \n",
       "settlement_status         object\n",
       "settlement_date           object\n",
       "settlement_amount        float64\n",
       "settlement_percentage    float64\n",
       "settlement_term          float64\n",
       "Length: 145, dtype: object"
      ]
     },
     "execution_count": 99,
     "metadata": {},
     "output_type": "execute_result"
    }
   ],
   "source": [
    "df.dtypes"
   ]
  },
  {
   "cell_type": "code",
   "execution_count": 100,
   "metadata": {},
   "outputs": [
    {
     "data": {
      "text/plain": [
       "id                       100.000000\n",
       "member_id                100.000000\n",
       "loan_amnt                  0.000000\n",
       "funded_amnt                0.000000\n",
       "funded_amnt_inv            0.000000\n",
       "                            ...    \n",
       "settlement_status         97.591781\n",
       "settlement_date           97.591781\n",
       "settlement_amount         97.591781\n",
       "settlement_percentage     97.591781\n",
       "settlement_term           97.591781\n",
       "Length: 145, dtype: float64"
      ]
     },
     "execution_count": 100,
     "metadata": {},
     "output_type": "execute_result"
    }
   ],
   "source": [
    "df.isna().mean()*100"
   ]
  },
  {
   "cell_type": "code",
   "execution_count": 101,
   "metadata": {},
   "outputs": [
    {
     "data": {
      "text/html": [
       "<div>\n",
       "<style scoped>\n",
       "    .dataframe tbody tr th:only-of-type {\n",
       "        vertical-align: middle;\n",
       "    }\n",
       "\n",
       "    .dataframe tbody tr th {\n",
       "        vertical-align: top;\n",
       "    }\n",
       "\n",
       "    .dataframe thead th {\n",
       "        text-align: right;\n",
       "    }\n",
       "</style>\n",
       "<table border=\"1\" class=\"dataframe\">\n",
       "  <thead>\n",
       "    <tr style=\"text-align: right;\">\n",
       "      <th></th>\n",
       "      <th>loan_amnt</th>\n",
       "      <th>funded_amnt</th>\n",
       "      <th>funded_amnt_inv</th>\n",
       "      <th>term</th>\n",
       "      <th>int_rate</th>\n",
       "      <th>installment</th>\n",
       "      <th>grade</th>\n",
       "      <th>sub_grade</th>\n",
       "      <th>home_ownership</th>\n",
       "      <th>annual_inc</th>\n",
       "      <th>...</th>\n",
       "      <th>earliest_cr_line</th>\n",
       "      <th>inq_last_6mths</th>\n",
       "      <th>open_acc</th>\n",
       "      <th>pub_rec</th>\n",
       "      <th>revol_bal</th>\n",
       "      <th>total_acc</th>\n",
       "      <th>initial_list_status</th>\n",
       "      <th>out_prncp</th>\n",
       "      <th>out_prncp_inv</th>\n",
       "      <th>total_pymnt</th>\n",
       "    </tr>\n",
       "  </thead>\n",
       "  <tbody>\n",
       "    <tr>\n",
       "      <th>0</th>\n",
       "      <td>22000</td>\n",
       "      <td>22000</td>\n",
       "      <td>22000.0</td>\n",
       "      <td>36 months</td>\n",
       "      <td>9.17</td>\n",
       "      <td>701.34</td>\n",
       "      <td>B</td>\n",
       "      <td>B2</td>\n",
       "      <td>RENT</td>\n",
       "      <td>73000.0</td>\n",
       "      <td>...</td>\n",
       "      <td>Sep-1999</td>\n",
       "      <td>2.0</td>\n",
       "      <td>7.0</td>\n",
       "      <td>0.0</td>\n",
       "      <td>33797</td>\n",
       "      <td>22.0</td>\n",
       "      <td>f</td>\n",
       "      <td>0.0</td>\n",
       "      <td>0.0</td>\n",
       "      <td>25251.046476</td>\n",
       "    </tr>\n",
       "    <tr>\n",
       "      <th>1</th>\n",
       "      <td>8000</td>\n",
       "      <td>8000</td>\n",
       "      <td>8000.0</td>\n",
       "      <td>36 months</td>\n",
       "      <td>5.32</td>\n",
       "      <td>240.92</td>\n",
       "      <td>A</td>\n",
       "      <td>A1</td>\n",
       "      <td>MORTGAGE</td>\n",
       "      <td>89000.0</td>\n",
       "      <td>...</td>\n",
       "      <td>Dec-2001</td>\n",
       "      <td>0.0</td>\n",
       "      <td>8.0</td>\n",
       "      <td>1.0</td>\n",
       "      <td>5405</td>\n",
       "      <td>16.0</td>\n",
       "      <td>f</td>\n",
       "      <td>0.0</td>\n",
       "      <td>0.0</td>\n",
       "      <td>8602.708787</td>\n",
       "    </tr>\n",
       "    <tr>\n",
       "      <th>2</th>\n",
       "      <td>6000</td>\n",
       "      <td>6000</td>\n",
       "      <td>6000.0</td>\n",
       "      <td>36 months</td>\n",
       "      <td>9.75</td>\n",
       "      <td>192.90</td>\n",
       "      <td>B</td>\n",
       "      <td>B3</td>\n",
       "      <td>RENT</td>\n",
       "      <td>65000.0</td>\n",
       "      <td>...</td>\n",
       "      <td>Oct-2004</td>\n",
       "      <td>0.0</td>\n",
       "      <td>17.0</td>\n",
       "      <td>0.0</td>\n",
       "      <td>27715</td>\n",
       "      <td>27.0</td>\n",
       "      <td>w</td>\n",
       "      <td>0.0</td>\n",
       "      <td>0.0</td>\n",
       "      <td>6518.164684</td>\n",
       "    </tr>\n",
       "    <tr>\n",
       "      <th>3</th>\n",
       "      <td>5300</td>\n",
       "      <td>5300</td>\n",
       "      <td>5300.0</td>\n",
       "      <td>36 months</td>\n",
       "      <td>12.39</td>\n",
       "      <td>177.03</td>\n",
       "      <td>C</td>\n",
       "      <td>C1</td>\n",
       "      <td>MORTGAGE</td>\n",
       "      <td>53486.0</td>\n",
       "      <td>...</td>\n",
       "      <td>Jun-1991</td>\n",
       "      <td>0.0</td>\n",
       "      <td>18.0</td>\n",
       "      <td>0.0</td>\n",
       "      <td>31609</td>\n",
       "      <td>35.0</td>\n",
       "      <td>w</td>\n",
       "      <td>0.0</td>\n",
       "      <td>0.0</td>\n",
       "      <td>6369.200907</td>\n",
       "    </tr>\n",
       "    <tr>\n",
       "      <th>4</th>\n",
       "      <td>8000</td>\n",
       "      <td>8000</td>\n",
       "      <td>8000.0</td>\n",
       "      <td>36 months</td>\n",
       "      <td>12.49</td>\n",
       "      <td>267.60</td>\n",
       "      <td>B</td>\n",
       "      <td>B5</td>\n",
       "      <td>MORTGAGE</td>\n",
       "      <td>72550.0</td>\n",
       "      <td>...</td>\n",
       "      <td>Jul-1979</td>\n",
       "      <td>0.0</td>\n",
       "      <td>7.0</td>\n",
       "      <td>0.0</td>\n",
       "      <td>5880</td>\n",
       "      <td>25.0</td>\n",
       "      <td>w</td>\n",
       "      <td>0.0</td>\n",
       "      <td>0.0</td>\n",
       "      <td>9633.193533</td>\n",
       "    </tr>\n",
       "  </tbody>\n",
       "</table>\n",
       "<p>5 rows × 28 columns</p>\n",
       "</div>"
      ],
      "text/plain": [
       "   loan_amnt  funded_amnt  funded_amnt_inv        term  int_rate  installment  \\\n",
       "0      22000        22000          22000.0   36 months      9.17       701.34   \n",
       "1       8000         8000           8000.0   36 months      5.32       240.92   \n",
       "2       6000         6000           6000.0   36 months      9.75       192.90   \n",
       "3       5300         5300           5300.0   36 months     12.39       177.03   \n",
       "4       8000         8000           8000.0   36 months     12.49       267.60   \n",
       "\n",
       "  grade sub_grade home_ownership  annual_inc  ... earliest_cr_line  \\\n",
       "0     B        B2           RENT     73000.0  ...         Sep-1999   \n",
       "1     A        A1       MORTGAGE     89000.0  ...         Dec-2001   \n",
       "2     B        B3           RENT     65000.0  ...         Oct-2004   \n",
       "3     C        C1       MORTGAGE     53486.0  ...         Jun-1991   \n",
       "4     B        B5       MORTGAGE     72550.0  ...         Jul-1979   \n",
       "\n",
       "  inq_last_6mths  open_acc pub_rec revol_bal total_acc initial_list_status  \\\n",
       "0            2.0       7.0     0.0     33797      22.0                   f   \n",
       "1            0.0       8.0     1.0      5405      16.0                   f   \n",
       "2            0.0      17.0     0.0     27715      27.0                   w   \n",
       "3            0.0      18.0     0.0     31609      35.0                   w   \n",
       "4            0.0       7.0     0.0      5880      25.0                   w   \n",
       "\n",
       "   out_prncp out_prncp_inv   total_pymnt  \n",
       "0        0.0           0.0  25251.046476  \n",
       "1        0.0           0.0   8602.708787  \n",
       "2        0.0           0.0   6518.164684  \n",
       "3        0.0           0.0   6369.200907  \n",
       "4        0.0           0.0   9633.193533  \n",
       "\n",
       "[5 rows x 28 columns]"
      ]
     },
     "execution_count": 101,
     "metadata": {},
     "output_type": "execute_result"
    }
   ],
   "source": [
    "df = df.dropna(axis='columns')\n",
    "df.head()"
   ]
  },
  {
   "cell_type": "code",
   "execution_count": 102,
   "metadata": {},
   "outputs": [
    {
     "data": {
      "text/plain": [
       "loan_amnt              0.0\n",
       "funded_amnt            0.0\n",
       "funded_amnt_inv        0.0\n",
       "term                   0.0\n",
       "int_rate               0.0\n",
       "installment            0.0\n",
       "grade                  0.0\n",
       "sub_grade              0.0\n",
       "home_ownership         0.0\n",
       "annual_inc             0.0\n",
       "verification_status    0.0\n",
       "issue_d                0.0\n",
       "loan_status            0.0\n",
       "pymnt_plan             0.0\n",
       "purpose                0.0\n",
       "zip_code               0.0\n",
       "addr_state             0.0\n",
       "delinq_2yrs            0.0\n",
       "earliest_cr_line       0.0\n",
       "inq_last_6mths         0.0\n",
       "open_acc               0.0\n",
       "pub_rec                0.0\n",
       "revol_bal              0.0\n",
       "total_acc              0.0\n",
       "initial_list_status    0.0\n",
       "out_prncp              0.0\n",
       "out_prncp_inv          0.0\n",
       "total_pymnt            0.0\n",
       "dtype: float64"
      ]
     },
     "execution_count": 102,
     "metadata": {},
     "output_type": "execute_result"
    }
   ],
   "source": [
    "df.isna().mean()"
   ]
  },
  {
   "cell_type": "code",
   "execution_count": 103,
   "metadata": {},
   "outputs": [
    {
     "data": {
      "text/plain": [
       "(127314, 28)"
      ]
     },
     "execution_count": 103,
     "metadata": {},
     "output_type": "execute_result"
    }
   ],
   "source": [
    "df.shape"
   ]
  },
  {
   "cell_type": "code",
   "execution_count": 104,
   "metadata": {},
   "outputs": [
    {
     "data": {
      "text/plain": [
       "loan_amnt                int64\n",
       "funded_amnt              int64\n",
       "funded_amnt_inv        float64\n",
       "term                    object\n",
       "int_rate               float64\n",
       "installment            float64\n",
       "grade                   object\n",
       "sub_grade               object\n",
       "home_ownership          object\n",
       "annual_inc             float64\n",
       "verification_status     object\n",
       "issue_d                 object\n",
       "loan_status              int64\n",
       "pymnt_plan              object\n",
       "purpose                 object\n",
       "zip_code                object\n",
       "addr_state              object\n",
       "delinq_2yrs            float64\n",
       "earliest_cr_line        object\n",
       "inq_last_6mths         float64\n",
       "open_acc               float64\n",
       "pub_rec                float64\n",
       "revol_bal                int64\n",
       "total_acc              float64\n",
       "initial_list_status     object\n",
       "out_prncp              float64\n",
       "out_prncp_inv          float64\n",
       "total_pymnt            float64\n",
       "dtype: object"
      ]
     },
     "execution_count": 104,
     "metadata": {},
     "output_type": "execute_result"
    }
   ],
   "source": [
    "df.dtypes"
   ]
  },
  {
   "cell_type": "code",
   "execution_count": 105,
   "metadata": {},
   "outputs": [
    {
     "data": {
      "text/plain": [
       "0    101716\n",
       "1     25598\n",
       "Name: loan_status, dtype: int64"
      ]
     },
     "execution_count": 105,
     "metadata": {},
     "output_type": "execute_result"
    }
   ],
   "source": [
    "df['loan_status'].value_counts()"
   ]
  },
  {
   "cell_type": "code",
   "execution_count": 106,
   "metadata": {},
   "outputs": [
    {
     "data": {
      "text/plain": [
       "<matplotlib.axes._subplots.AxesSubplot at 0x26426056d88>"
      ]
     },
     "execution_count": 106,
     "metadata": {},
     "output_type": "execute_result"
    },
    {
     "data": {
      "image/png": "[encoded data removed]",
      "text/plain": [
       "<Figure size 432x288 with 1 Axes>"
      ]
     },
     "metadata": {
      "needs_background": "light"
     },
     "output_type": "display_data"
    }
   ],
   "source": [
    "sns.countplot(df['loan_status'])"
   ]
  },
  {
   "cell_type": "code",
   "execution_count": 107,
   "metadata": {},
   "outputs": [
    {
     "data": {
      "text/html": [
       "<div>\n",
       "<style scoped>\n",
       "    .dataframe tbody tr th:only-of-type {\n",
       "        vertical-align: middle;\n",
       "    }\n",
       "\n",
       "    .dataframe tbody tr th {\n",
       "        vertical-align: top;\n",
       "    }\n",
       "\n",
       "    .dataframe thead th {\n",
       "        text-align: right;\n",
       "    }\n",
       "</style>\n",
       "<table border=\"1\" class=\"dataframe\">\n",
       "  <thead>\n",
       "    <tr style=\"text-align: right;\">\n",
       "      <th></th>\n",
       "      <th>loan_amnt</th>\n",
       "      <th>funded_amnt</th>\n",
       "      <th>funded_amnt_inv</th>\n",
       "      <th>int_rate</th>\n",
       "      <th>installment</th>\n",
       "      <th>annual_inc</th>\n",
       "      <th>loan_status</th>\n",
       "      <th>delinq_2yrs</th>\n",
       "      <th>inq_last_6mths</th>\n",
       "      <th>open_acc</th>\n",
       "      <th>pub_rec</th>\n",
       "      <th>revol_bal</th>\n",
       "      <th>total_acc</th>\n",
       "      <th>out_prncp</th>\n",
       "      <th>out_prncp_inv</th>\n",
       "      <th>total_pymnt</th>\n",
       "    </tr>\n",
       "  </thead>\n",
       "  <tbody>\n",
       "    <tr>\n",
       "      <th>count</th>\n",
       "      <td>127314.000000</td>\n",
       "      <td>127314.000000</td>\n",
       "      <td>127314.000000</td>\n",
       "      <td>127314.000000</td>\n",
       "      <td>127314.000000</td>\n",
       "      <td>1.273140e+05</td>\n",
       "      <td>127314.000000</td>\n",
       "      <td>127314.000000</td>\n",
       "      <td>127314.000000</td>\n",
       "      <td>127314.000000</td>\n",
       "      <td>127314.000000</td>\n",
       "      <td>1.273140e+05</td>\n",
       "      <td>127314.000000</td>\n",
       "      <td>127314.000000</td>\n",
       "      <td>127314.000000</td>\n",
       "      <td>127314.000000</td>\n",
       "    </tr>\n",
       "    <tr>\n",
       "      <th>mean</th>\n",
       "      <td>14433.164656</td>\n",
       "      <td>14424.530884</td>\n",
       "      <td>14401.107924</td>\n",
       "      <td>13.245526</td>\n",
       "      <td>438.821900</td>\n",
       "      <td>7.618913e+04</td>\n",
       "      <td>0.201062</td>\n",
       "      <td>0.314899</td>\n",
       "      <td>0.659299</td>\n",
       "      <td>11.572938</td>\n",
       "      <td>0.218805</td>\n",
       "      <td>1.623791e+04</td>\n",
       "      <td>24.975957</td>\n",
       "      <td>0.334874</td>\n",
       "      <td>0.334874</td>\n",
       "      <td>14810.533048</td>\n",
       "    </tr>\n",
       "    <tr>\n",
       "      <th>std</th>\n",
       "      <td>8708.248460</td>\n",
       "      <td>8703.630933</td>\n",
       "      <td>8706.056443</td>\n",
       "      <td>4.744872</td>\n",
       "      <td>261.415501</td>\n",
       "      <td>6.843703e+04</td>\n",
       "      <td>0.400796</td>\n",
       "      <td>0.874283</td>\n",
       "      <td>0.938963</td>\n",
       "      <td>5.455621</td>\n",
       "      <td>0.616090</td>\n",
       "      <td>2.184528e+04</td>\n",
       "      <td>11.924768</td>\n",
       "      <td>70.089007</td>\n",
       "      <td>70.089007</td>\n",
       "      <td>10337.694666</td>\n",
       "    </tr>\n",
       "    <tr>\n",
       "      <th>min</th>\n",
       "      <td>500.000000</td>\n",
       "      <td>500.000000</td>\n",
       "      <td>0.000000</td>\n",
       "      <td>5.310000</td>\n",
       "      <td>14.770000</td>\n",
       "      <td>0.000000e+00</td>\n",
       "      <td>0.000000</td>\n",
       "      <td>0.000000</td>\n",
       "      <td>0.000000</td>\n",
       "      <td>0.000000</td>\n",
       "      <td>0.000000</td>\n",
       "      <td>0.000000e+00</td>\n",
       "      <td>2.000000</td>\n",
       "      <td>0.000000</td>\n",
       "      <td>0.000000</td>\n",
       "      <td>0.000000</td>\n",
       "    </tr>\n",
       "    <tr>\n",
       "      <th>25%</th>\n",
       "      <td>8000.000000</td>\n",
       "      <td>8000.000000</td>\n",
       "      <td>7900.000000</td>\n",
       "      <td>9.750000</td>\n",
       "      <td>248.820000</td>\n",
       "      <td>4.600000e+04</td>\n",
       "      <td>0.000000</td>\n",
       "      <td>0.000000</td>\n",
       "      <td>0.000000</td>\n",
       "      <td>8.000000</td>\n",
       "      <td>0.000000</td>\n",
       "      <td>5.960250e+03</td>\n",
       "      <td>16.000000</td>\n",
       "      <td>0.000000</td>\n",
       "      <td>0.000000</td>\n",
       "      <td>6822.519989</td>\n",
       "    </tr>\n",
       "    <tr>\n",
       "      <th>50%</th>\n",
       "      <td>12000.000000</td>\n",
       "      <td>12000.000000</td>\n",
       "      <td>12000.000000</td>\n",
       "      <td>12.740000</td>\n",
       "      <td>375.430000</td>\n",
       "      <td>6.500000e+04</td>\n",
       "      <td>0.000000</td>\n",
       "      <td>0.000000</td>\n",
       "      <td>0.000000</td>\n",
       "      <td>11.000000</td>\n",
       "      <td>0.000000</td>\n",
       "      <td>1.116300e+04</td>\n",
       "      <td>23.000000</td>\n",
       "      <td>0.000000</td>\n",
       "      <td>0.000000</td>\n",
       "      <td>12110.418379</td>\n",
       "    </tr>\n",
       "    <tr>\n",
       "      <th>75%</th>\n",
       "      <td>20000.000000</td>\n",
       "      <td>20000.000000</td>\n",
       "      <td>20000.000000</td>\n",
       "      <td>15.990000</td>\n",
       "      <td>581.690000</td>\n",
       "      <td>9.000000e+04</td>\n",
       "      <td>0.000000</td>\n",
       "      <td>0.000000</td>\n",
       "      <td>1.000000</td>\n",
       "      <td>14.000000</td>\n",
       "      <td>0.000000</td>\n",
       "      <td>1.971575e+04</td>\n",
       "      <td>32.000000</td>\n",
       "      <td>0.000000</td>\n",
       "      <td>0.000000</td>\n",
       "      <td>20615.420066</td>\n",
       "    </tr>\n",
       "    <tr>\n",
       "      <th>max</th>\n",
       "      <td>40000.000000</td>\n",
       "      <td>40000.000000</td>\n",
       "      <td>40000.000000</td>\n",
       "      <td>30.990000</td>\n",
       "      <td>1618.030000</td>\n",
       "      <td>9.550000e+06</td>\n",
       "      <td>1.000000</td>\n",
       "      <td>25.000000</td>\n",
       "      <td>8.000000</td>\n",
       "      <td>74.000000</td>\n",
       "      <td>47.000000</td>\n",
       "      <td>1.023940e+06</td>\n",
       "      <td>127.000000</td>\n",
       "      <td>16659.550000</td>\n",
       "      <td>16659.550000</td>\n",
       "      <td>62884.797382</td>\n",
       "    </tr>\n",
       "  </tbody>\n",
       "</table>\n",
       "</div>"
      ],
      "text/plain": [
       "           loan_amnt    funded_amnt  funded_amnt_inv       int_rate  \\\n",
       "count  127314.000000  127314.000000    127314.000000  127314.000000   \n",
       "mean    14433.164656   14424.530884     14401.107924      13.245526   \n",
       "std      8708.248460    8703.630933      8706.056443       4.744872   \n",
       "min       500.000000     500.000000         0.000000       5.310000   \n",
       "25%      8000.000000    8000.000000      7900.000000       9.750000   \n",
       "50%     12000.000000   12000.000000     12000.000000      12.740000   \n",
       "75%     20000.000000   20000.000000     20000.000000      15.990000   \n",
       "max     40000.000000   40000.000000     40000.000000      30.990000   \n",
       "\n",
       "         installment    annual_inc    loan_status    delinq_2yrs  \\\n",
       "count  127314.000000  1.273140e+05  127314.000000  127314.000000   \n",
       "mean      438.821900  7.618913e+04       0.201062       0.314899   \n",
       "std       261.415501  6.843703e+04       0.400796       0.874283   \n",
       "min        14.770000  0.000000e+00       0.000000       0.000000   \n",
       "25%       248.820000  4.600000e+04       0.000000       0.000000   \n",
       "50%       375.430000  6.500000e+04       0.000000       0.000000   \n",
       "75%       581.690000  9.000000e+04       0.000000       0.000000   \n",
       "max      1618.030000  9.550000e+06       1.000000      25.000000   \n",
       "\n",
       "       inq_last_6mths       open_acc        pub_rec     revol_bal  \\\n",
       "count   127314.000000  127314.000000  127314.000000  1.273140e+05   \n",
       "mean         0.659299      11.572938       0.218805  1.623791e+04   \n",
       "std          0.938963       5.455621       0.616090  2.184528e+04   \n",
       "min          0.000000       0.000000       0.000000  0.000000e+00   \n",
       "25%          0.000000       8.000000       0.000000  5.960250e+03   \n",
       "50%          0.000000      11.000000       0.000000  1.116300e+04   \n",
       "75%          1.000000      14.000000       0.000000  1.971575e+04   \n",
       "max          8.000000      74.000000      47.000000  1.023940e+06   \n",
       "\n",
       "           total_acc      out_prncp  out_prncp_inv    total_pymnt  \n",
       "count  127314.000000  127314.000000  127314.000000  127314.000000  \n",
       "mean       24.975957       0.334874       0.334874   14810.533048  \n",
       "std        11.924768      70.089007      70.089007   10337.694666  \n",
       "min         2.000000       0.000000       0.000000       0.000000  \n",
       "25%        16.000000       0.000000       0.000000    6822.519989  \n",
       "50%        23.000000       0.000000       0.000000   12110.418379  \n",
       "75%        32.000000       0.000000       0.000000   20615.420066  \n",
       "max       127.000000   16659.550000   16659.550000   62884.797382  "
      ]
     },
     "execution_count": 107,
     "metadata": {},
     "output_type": "execute_result"
    }
   ],
   "source": [
    "df.describe()"
   ]
  },
  {
   "cell_type": "code",
   "execution_count": 108,
   "metadata": {},
   "outputs": [],
   "source": [
    "#correlation of continous variables with loan status\n",
    "corr = df._get_numeric_data().corr()['loan_status']"
   ]
  },
  {
   "cell_type": "code",
   "execution_count": 109,
   "metadata": {},
   "outputs": [
    {
     "data": {
      "text/plain": [
       "total_pymnt       -0.320088\n",
       "annual_inc        -0.042385\n",
       "revol_bal         -0.021795\n",
       "total_acc         -0.009707\n",
       "out_prncp          0.009524\n",
       "out_prncp_inv      0.009524\n",
       "delinq_2yrs        0.022129\n",
       "open_acc           0.026151\n",
       "pub_rec            0.029965\n",
       "installment        0.048781\n",
       "funded_amnt_inv    0.061736\n",
       "loan_amnt          0.061987\n",
       "funded_amnt        0.062037\n",
       "inq_last_6mths     0.064311\n",
       "int_rate           0.256257\n",
       "loan_status        1.000000\n",
       "Name: loan_status, dtype: float64"
      ]
     },
     "execution_count": 109,
     "metadata": {},
     "output_type": "execute_result"
    }
   ],
   "source": [
    "corr.sort_values()"
   ]
  },
  {
   "cell_type": "code",
   "execution_count": 110,
   "metadata": {},
   "outputs": [
    {
     "data": {
      "text/plain": [
       "<matplotlib.axes._subplots.AxesSubplot at 0x26436f94a48>"
      ]
     },
     "execution_count": 110,
     "metadata": {},
     "output_type": "execute_result"
    },
    {
     "data": {
      "image/png": "[encoded data removed]",
      "text/plain": [
       "<Figure size 864x432 with 1 Axes>"
      ]
     },
     "metadata": {
      "needs_background": "light"
     },
     "output_type": "display_data"
    }
   ],
   "source": [
    "corr.plot(kind='bar', figsize=(12,6))"
   ]
  },
  {
   "cell_type": "code",
   "execution_count": 111,
   "metadata": {},
   "outputs": [
    {
     "data": {
      "text/plain": [
       "array([[<matplotlib.axes._subplots.AxesSubplot object at 0x0000026435098688>,\n",
       "        <matplotlib.axes._subplots.AxesSubplot object at 0x0000026434F12248>,\n",
       "        <matplotlib.axes._subplots.AxesSubplot object at 0x0000026434F47A08>,\n",
       "        <matplotlib.axes._subplots.AxesSubplot object at 0x0000026434F7F988>],\n",
       "       [<matplotlib.axes._subplots.AxesSubplot object at 0x0000026434FB8A88>,\n",
       "        <matplotlib.axes._subplots.AxesSubplot object at 0x0000026434FF2B88>,\n",
       "        <matplotlib.axes._subplots.AxesSubplot object at 0x0000026435029C88>,\n",
       "        <matplotlib.axes._subplots.AxesSubplot object at 0x0000026435522D48>],\n",
       "       [<matplotlib.axes._subplots.AxesSubplot object at 0x000002643552B948>,\n",
       "        <matplotlib.axes._subplots.AxesSubplot object at 0x0000026435564B08>,\n",
       "        <matplotlib.axes._subplots.AxesSubplot object at 0x0000026435A1F108>,\n",
       "        <matplotlib.axes._subplots.AxesSubplot object at 0x0000026435A57188>],\n",
       "       [<matplotlib.axes._subplots.AxesSubplot object at 0x0000026435A90288>,\n",
       "        <matplotlib.axes._subplots.AxesSubplot object at 0x0000026435AC83C8>,\n",
       "        <matplotlib.axes._subplots.AxesSubplot object at 0x0000026435B004C8>,\n",
       "        <matplotlib.axes._subplots.AxesSubplot object at 0x0000026435B385C8>]],\n",
       "      dtype=object)"
      ]
     },
     "execution_count": 111,
     "metadata": {},
     "output_type": "execute_result"
    },
    {
     "data": {
      "image/png": "[encoded data removed]",
      "text/plain": [
       "<Figure size 432x288 with 16 Axes>"
      ]
     },
     "metadata": {
      "needs_background": "light"
     },
     "output_type": "display_data"
    }
   ],
   "source": [
    "df._get_numeric_data().hist(bins=6)"
   ]
  },
  {
   "cell_type": "code",
   "execution_count": 120,
   "metadata": {},
   "outputs": [
    {
     "data": {
      "text/html": [
       "<div>\n",
       "<style scoped>\n",
       "    .dataframe tbody tr th:only-of-type {\n",
       "        vertical-align: middle;\n",
       "    }\n",
       "\n",
       "    .dataframe tbody tr th {\n",
       "        vertical-align: top;\n",
       "    }\n",
       "\n",
       "    .dataframe thead th {\n",
       "        text-align: right;\n",
       "    }\n",
       "</style>\n",
       "<table border=\"1\" class=\"dataframe\">\n",
       "  <thead>\n",
       "    <tr style=\"text-align: right;\">\n",
       "      <th></th>\n",
       "      <th>loan_amnt</th>\n",
       "      <th>funded_amnt</th>\n",
       "      <th>funded_amnt_inv</th>\n",
       "      <th>term</th>\n",
       "      <th>int_rate</th>\n",
       "      <th>installment</th>\n",
       "      <th>grade</th>\n",
       "      <th>sub_grade</th>\n",
       "      <th>home_ownership</th>\n",
       "      <th>annual_inc</th>\n",
       "      <th>...</th>\n",
       "      <th>earliest_cr_line</th>\n",
       "      <th>inq_last_6mths</th>\n",
       "      <th>open_acc</th>\n",
       "      <th>pub_rec</th>\n",
       "      <th>revol_bal</th>\n",
       "      <th>total_acc</th>\n",
       "      <th>initial_list_status</th>\n",
       "      <th>out_prncp</th>\n",
       "      <th>out_prncp_inv</th>\n",
       "      <th>total_pymnt</th>\n",
       "    </tr>\n",
       "  </thead>\n",
       "  <tbody>\n",
       "    <tr>\n",
       "      <th>0</th>\n",
       "      <td>22000</td>\n",
       "      <td>22000</td>\n",
       "      <td>22000.0</td>\n",
       "      <td>36 months</td>\n",
       "      <td>9.17</td>\n",
       "      <td>701.34</td>\n",
       "      <td>B</td>\n",
       "      <td>B2</td>\n",
       "      <td>RENT</td>\n",
       "      <td>73000.0</td>\n",
       "      <td>...</td>\n",
       "      <td>Sep-1999</td>\n",
       "      <td>2.0</td>\n",
       "      <td>7.0</td>\n",
       "      <td>0.0</td>\n",
       "      <td>33797</td>\n",
       "      <td>22.0</td>\n",
       "      <td>f</td>\n",
       "      <td>0.0</td>\n",
       "      <td>0.0</td>\n",
       "      <td>25251.046476</td>\n",
       "    </tr>\n",
       "    <tr>\n",
       "      <th>1</th>\n",
       "      <td>8000</td>\n",
       "      <td>8000</td>\n",
       "      <td>8000.0</td>\n",
       "      <td>36 months</td>\n",
       "      <td>5.32</td>\n",
       "      <td>240.92</td>\n",
       "      <td>A</td>\n",
       "      <td>A1</td>\n",
       "      <td>MORTGAGE</td>\n",
       "      <td>89000.0</td>\n",
       "      <td>...</td>\n",
       "      <td>Dec-2001</td>\n",
       "      <td>0.0</td>\n",
       "      <td>8.0</td>\n",
       "      <td>1.0</td>\n",
       "      <td>5405</td>\n",
       "      <td>16.0</td>\n",
       "      <td>f</td>\n",
       "      <td>0.0</td>\n",
       "      <td>0.0</td>\n",
       "      <td>8602.708787</td>\n",
       "    </tr>\n",
       "  </tbody>\n",
       "</table>\n",
       "<p>2 rows × 28 columns</p>\n",
       "</div>"
      ],
      "text/plain": [
       "   loan_amnt  funded_amnt  funded_amnt_inv        term  int_rate  installment  \\\n",
       "0      22000        22000          22000.0   36 months      9.17       701.34   \n",
       "1       8000         8000           8000.0   36 months      5.32       240.92   \n",
       "\n",
       "  grade sub_grade home_ownership  annual_inc  ... earliest_cr_line  \\\n",
       "0     B        B2           RENT     73000.0  ...         Sep-1999   \n",
       "1     A        A1       MORTGAGE     89000.0  ...         Dec-2001   \n",
       "\n",
       "  inq_last_6mths  open_acc pub_rec revol_bal total_acc initial_list_status  \\\n",
       "0            2.0       7.0     0.0     33797      22.0                   f   \n",
       "1            0.0       8.0     1.0      5405      16.0                   f   \n",
       "\n",
       "   out_prncp out_prncp_inv   total_pymnt  \n",
       "0        0.0           0.0  25251.046476  \n",
       "1        0.0           0.0   8602.708787  \n",
       "\n",
       "[2 rows x 28 columns]"
      ]
     },
     "execution_count": 120,
     "metadata": {},
     "output_type": "execute_result"
    }
   ],
   "source": [
    "df.head(2)"
   ]
  },
  {
   "cell_type": "code",
   "execution_count": null,
   "metadata": {},
   "outputs": [],
   "source": []
  },
  {
   "cell_type": "code",
   "execution_count": null,
   "metadata": {},
   "outputs": [],
   "source": []
  },
  {
   "cell_type": "code",
   "execution_count": null,
   "metadata": {},
   "outputs": [],
   "source": []
  },
  {
   "cell_type": "code",
   "execution_count": 119,
   "metadata": {},
   "outputs": [
    {
     "data": {
      "text/html": [
       "<div>\n",
       "<style scoped>\n",
       "    .dataframe tbody tr th:only-of-type {\n",
       "        vertical-align: middle;\n",
       "    }\n",
       "\n",
       "    .dataframe tbody tr th {\n",
       "        vertical-align: top;\n",
       "    }\n",
       "\n",
       "    .dataframe thead th {\n",
       "        text-align: right;\n",
       "    }\n",
       "</style>\n",
       "<table border=\"1\" class=\"dataframe\">\n",
       "  <thead>\n",
       "    <tr style=\"text-align: right;\">\n",
       "      <th></th>\n",
       "      <th>term</th>\n",
       "      <th>grade</th>\n",
       "      <th>sub_grade</th>\n",
       "      <th>home_ownership</th>\n",
       "      <th>verification_status</th>\n",
       "      <th>issue_d</th>\n",
       "      <th>pymnt_plan</th>\n",
       "      <th>purpose</th>\n",
       "      <th>zip_code</th>\n",
       "      <th>addr_state</th>\n",
       "      <th>earliest_cr_line</th>\n",
       "      <th>initial_list_status</th>\n",
       "    </tr>\n",
       "  </thead>\n",
       "  <tbody>\n",
       "    <tr>\n",
       "      <th>0</th>\n",
       "      <td>36 months</td>\n",
       "      <td>B</td>\n",
       "      <td>B2</td>\n",
       "      <td>RENT</td>\n",
       "      <td>Source Verified</td>\n",
       "      <td>Jun-2015</td>\n",
       "      <td>n</td>\n",
       "      <td>debt_consolidation</td>\n",
       "      <td>913xx</td>\n",
       "      <td>CA</td>\n",
       "      <td>Sep-1999</td>\n",
       "      <td>f</td>\n",
       "    </tr>\n",
       "    <tr>\n",
       "      <th>1</th>\n",
       "      <td>36 months</td>\n",
       "      <td>A</td>\n",
       "      <td>A1</td>\n",
       "      <td>MORTGAGE</td>\n",
       "      <td>Not Verified</td>\n",
       "      <td>Aug-2016</td>\n",
       "      <td>n</td>\n",
       "      <td>debt_consolidation</td>\n",
       "      <td>740xx</td>\n",
       "      <td>OK</td>\n",
       "      <td>Dec-2001</td>\n",
       "      <td>f</td>\n",
       "    </tr>\n",
       "  </tbody>\n",
       "</table>\n",
       "</div>"
      ],
      "text/plain": [
       "         term grade sub_grade home_ownership verification_status   issue_d  \\\n",
       "0   36 months     B        B2           RENT     Source Verified  Jun-2015   \n",
       "1   36 months     A        A1       MORTGAGE        Not Verified  Aug-2016   \n",
       "\n",
       "  pymnt_plan             purpose zip_code addr_state earliest_cr_line  \\\n",
       "0          n  debt_consolidation    913xx         CA         Sep-1999   \n",
       "1          n  debt_consolidation    740xx         OK         Dec-2001   \n",
       "\n",
       "  initial_list_status  \n",
       "0                   f  \n",
       "1                   f  "
      ]
     },
     "execution_count": 119,
     "metadata": {},
     "output_type": "execute_result"
    }
   ],
   "source": [
    "#selecting categorical variables in the data frame\n",
    "categ = df.select_dtypes(include=['object'])\n",
    "categ.head(2)"
   ]
  },
  {
   "cell_type": "code",
   "execution_count": 216,
   "metadata": {},
   "outputs": [
    {
     "data": {
      "text/plain": [
       "array(['B', 'A', 'C', 'D', 'E', 'G', 'F'], dtype=object)"
      ]
     },
     "execution_count": 216,
     "metadata": {},
     "output_type": "execute_result"
    }
   ],
   "source": [
    "df.grade.unique()"
   ]
  },
  {
   "cell_type": "code",
   "execution_count": 217,
   "metadata": {},
   "outputs": [
    {
     "data": {
      "text/plain": [
       "0         5\n",
       "1         6\n",
       "2         5\n",
       "3         4\n",
       "4         5\n",
       "         ..\n",
       "127309    6\n",
       "127310    6\n",
       "127311    5\n",
       "127312    4\n",
       "127313    5\n",
       "Name: grade_map, Length: 127314, dtype: int64"
      ]
     },
     "execution_count": 217,
     "metadata": {},
     "output_type": "execute_result"
    }
   ],
   "source": [
    "df['grade_map'] =df['grade'].map({'A':6,'B':5,'C':4,'D':3,'E':2,'F':1,'G':0})\n",
    "df['grade_map']"
   ]
  },
  {
   "cell_type": "code",
   "execution_count": 218,
   "metadata": {},
   "outputs": [
    {
     "data": {
      "text/plain": [
       "array(['Source Verified', 'Not Verified', 'Verified'], dtype=object)"
      ]
     },
     "execution_count": 218,
     "metadata": {},
     "output_type": "execute_result"
    }
   ],
   "source": [
    "df.verification_status.unique()"
   ]
  },
  {
   "cell_type": "code",
   "execution_count": 219,
   "metadata": {},
   "outputs": [
    {
     "data": {
      "text/html": [
       "<div>\n",
       "<style scoped>\n",
       "    .dataframe tbody tr th:only-of-type {\n",
       "        vertical-align: middle;\n",
       "    }\n",
       "\n",
       "    .dataframe tbody tr th {\n",
       "        vertical-align: top;\n",
       "    }\n",
       "\n",
       "    .dataframe thead th {\n",
       "        text-align: right;\n",
       "    }\n",
       "</style>\n",
       "<table border=\"1\" class=\"dataframe\">\n",
       "  <thead>\n",
       "    <tr style=\"text-align: right;\">\n",
       "      <th></th>\n",
       "      <th>loan_amnt</th>\n",
       "      <th>funded_amnt</th>\n",
       "      <th>funded_amnt_inv</th>\n",
       "      <th>term</th>\n",
       "      <th>int_rate</th>\n",
       "      <th>installment</th>\n",
       "      <th>grade</th>\n",
       "      <th>sub_grade</th>\n",
       "      <th>home_ownership</th>\n",
       "      <th>annual_inc</th>\n",
       "      <th>...</th>\n",
       "      <th>inq_last_6mths</th>\n",
       "      <th>open_acc</th>\n",
       "      <th>pub_rec</th>\n",
       "      <th>revol_bal</th>\n",
       "      <th>total_acc</th>\n",
       "      <th>initial_list_status</th>\n",
       "      <th>out_prncp</th>\n",
       "      <th>out_prncp_inv</th>\n",
       "      <th>total_pymnt</th>\n",
       "      <th>grade_map</th>\n",
       "    </tr>\n",
       "  </thead>\n",
       "  <tbody>\n",
       "    <tr>\n",
       "      <th>0</th>\n",
       "      <td>22000</td>\n",
       "      <td>22000</td>\n",
       "      <td>22000.0</td>\n",
       "      <td>36 months</td>\n",
       "      <td>9.17</td>\n",
       "      <td>701.34</td>\n",
       "      <td>B</td>\n",
       "      <td>B2</td>\n",
       "      <td>RENT</td>\n",
       "      <td>73000.0</td>\n",
       "      <td>...</td>\n",
       "      <td>2.0</td>\n",
       "      <td>7.0</td>\n",
       "      <td>0.0</td>\n",
       "      <td>33797</td>\n",
       "      <td>22.0</td>\n",
       "      <td>f</td>\n",
       "      <td>0.0</td>\n",
       "      <td>0.0</td>\n",
       "      <td>25251.046476</td>\n",
       "      <td>5</td>\n",
       "    </tr>\n",
       "    <tr>\n",
       "      <th>1</th>\n",
       "      <td>8000</td>\n",
       "      <td>8000</td>\n",
       "      <td>8000.0</td>\n",
       "      <td>36 months</td>\n",
       "      <td>5.32</td>\n",
       "      <td>240.92</td>\n",
       "      <td>A</td>\n",
       "      <td>A1</td>\n",
       "      <td>MORTGAGE</td>\n",
       "      <td>89000.0</td>\n",
       "      <td>...</td>\n",
       "      <td>0.0</td>\n",
       "      <td>8.0</td>\n",
       "      <td>1.0</td>\n",
       "      <td>5405</td>\n",
       "      <td>16.0</td>\n",
       "      <td>f</td>\n",
       "      <td>0.0</td>\n",
       "      <td>0.0</td>\n",
       "      <td>8602.708787</td>\n",
       "      <td>6</td>\n",
       "    </tr>\n",
       "  </tbody>\n",
       "</table>\n",
       "<p>2 rows × 29 columns</p>\n",
       "</div>"
      ],
      "text/plain": [
       "   loan_amnt  funded_amnt  funded_amnt_inv        term  int_rate  installment  \\\n",
       "0      22000        22000          22000.0   36 months      9.17       701.34   \n",
       "1       8000         8000           8000.0   36 months      5.32       240.92   \n",
       "\n",
       "  grade sub_grade home_ownership  annual_inc  ... inq_last_6mths open_acc  \\\n",
       "0     B        B2           RENT     73000.0  ...            2.0      7.0   \n",
       "1     A        A1       MORTGAGE     89000.0  ...            0.0      8.0   \n",
       "\n",
       "   pub_rec revol_bal total_acc initial_list_status out_prncp  out_prncp_inv  \\\n",
       "0      0.0     33797      22.0                   f       0.0            0.0   \n",
       "1      1.0      5405      16.0                   f       0.0            0.0   \n",
       "\n",
       "    total_pymnt  grade_map  \n",
       "0  25251.046476          5  \n",
       "1   8602.708787          6  \n",
       "\n",
       "[2 rows x 29 columns]"
      ]
     },
     "execution_count": 219,
     "metadata": {},
     "output_type": "execute_result"
    }
   ],
   "source": [
    "df.head(2)"
   ]
  },
  {
   "cell_type": "code",
   "execution_count": 220,
   "metadata": {},
   "outputs": [
    {
     "data": {
      "text/plain": [
       "0    1\n",
       "Name: loan_status, dtype: int64"
      ]
     },
     "execution_count": 220,
     "metadata": {},
     "output_type": "execute_result"
    }
   ],
   "source": [
    "df['loan_status'].sample().value_counts()"
   ]
  },
  {
   "cell_type": "code",
   "execution_count": 221,
   "metadata": {},
   "outputs": [
    {
     "data": {
      "image/png": "[encoded data removed]",
      "text/plain": [
       "<Figure size 432x288 with 1 Axes>"
      ]
     },
     "metadata": {
      "needs_background": "light"
     },
     "output_type": "display_data"
    }
   ],
   "source": [
    "%matplotlib inline\n",
    "plt.scatter(df['annual_inc'],df['loan_status'])\n",
    "plt.show()"
   ]
  },
  {
   "cell_type": "code",
   "execution_count": 222,
   "metadata": {},
   "outputs": [
    {
     "data": {
      "text/html": [
       "<div>\n",
       "<style scoped>\n",
       "    .dataframe tbody tr th:only-of-type {\n",
       "        vertical-align: middle;\n",
       "    }\n",
       "\n",
       "    .dataframe tbody tr th {\n",
       "        vertical-align: top;\n",
       "    }\n",
       "\n",
       "    .dataframe thead th {\n",
       "        text-align: right;\n",
       "    }\n",
       "</style>\n",
       "<table border=\"1\" class=\"dataframe\">\n",
       "  <thead>\n",
       "    <tr style=\"text-align: right;\">\n",
       "      <th></th>\n",
       "      <th>loan_amnt</th>\n",
       "      <th>funded_amnt</th>\n",
       "      <th>funded_amnt_inv</th>\n",
       "      <th>term</th>\n",
       "      <th>int_rate</th>\n",
       "      <th>installment</th>\n",
       "      <th>grade</th>\n",
       "      <th>sub_grade</th>\n",
       "      <th>home_ownership</th>\n",
       "      <th>annual_inc</th>\n",
       "      <th>...</th>\n",
       "      <th>inq_last_6mths</th>\n",
       "      <th>open_acc</th>\n",
       "      <th>pub_rec</th>\n",
       "      <th>revol_bal</th>\n",
       "      <th>total_acc</th>\n",
       "      <th>initial_list_status</th>\n",
       "      <th>out_prncp</th>\n",
       "      <th>out_prncp_inv</th>\n",
       "      <th>total_pymnt</th>\n",
       "      <th>grade_map</th>\n",
       "    </tr>\n",
       "  </thead>\n",
       "  <tbody>\n",
       "    <tr>\n",
       "      <th>69601</th>\n",
       "      <td>12000</td>\n",
       "      <td>12000</td>\n",
       "      <td>12000.0</td>\n",
       "      <td>36 months</td>\n",
       "      <td>7.49</td>\n",
       "      <td>373.22</td>\n",
       "      <td>A</td>\n",
       "      <td>A4</td>\n",
       "      <td>MORTGAGE</td>\n",
       "      <td>88000.0</td>\n",
       "      <td>...</td>\n",
       "      <td>1.0</td>\n",
       "      <td>11.0</td>\n",
       "      <td>0.0</td>\n",
       "      <td>14241</td>\n",
       "      <td>24.0</td>\n",
       "      <td>w</td>\n",
       "      <td>0.0</td>\n",
       "      <td>0.0</td>\n",
       "      <td>12834.171904</td>\n",
       "      <td>6</td>\n",
       "    </tr>\n",
       "    <tr>\n",
       "      <th>93849</th>\n",
       "      <td>35000</td>\n",
       "      <td>35000</td>\n",
       "      <td>35000.0</td>\n",
       "      <td>60 months</td>\n",
       "      <td>12.62</td>\n",
       "      <td>789.57</td>\n",
       "      <td>C</td>\n",
       "      <td>C1</td>\n",
       "      <td>MORTGAGE</td>\n",
       "      <td>60000.0</td>\n",
       "      <td>...</td>\n",
       "      <td>1.0</td>\n",
       "      <td>25.0</td>\n",
       "      <td>0.0</td>\n",
       "      <td>29565</td>\n",
       "      <td>34.0</td>\n",
       "      <td>w</td>\n",
       "      <td>0.0</td>\n",
       "      <td>0.0</td>\n",
       "      <td>36561.357069</td>\n",
       "      <td>4</td>\n",
       "    </tr>\n",
       "  </tbody>\n",
       "</table>\n",
       "<p>2 rows × 29 columns</p>\n",
       "</div>"
      ],
      "text/plain": [
       "       loan_amnt  funded_amnt  funded_amnt_inv        term  int_rate  \\\n",
       "69601      12000        12000          12000.0   36 months      7.49   \n",
       "93849      35000        35000          35000.0   60 months     12.62   \n",
       "\n",
       "       installment grade sub_grade home_ownership  annual_inc  ...  \\\n",
       "69601       373.22     A        A4       MORTGAGE     88000.0  ...   \n",
       "93849       789.57     C        C1       MORTGAGE     60000.0  ...   \n",
       "\n",
       "      inq_last_6mths open_acc  pub_rec revol_bal total_acc  \\\n",
       "69601            1.0     11.0      0.0     14241      24.0   \n",
       "93849            1.0     25.0      0.0     29565      34.0   \n",
       "\n",
       "      initial_list_status out_prncp  out_prncp_inv   total_pymnt  grade_map  \n",
       "69601                   w       0.0            0.0  12834.171904          6  \n",
       "93849                   w       0.0            0.0  36561.357069          4  \n",
       "\n",
       "[2 rows x 29 columns]"
      ]
     },
     "execution_count": 222,
     "metadata": {},
     "output_type": "execute_result"
    }
   ],
   "source": [
    "df.sample(2)"
   ]
  },
  {
   "cell_type": "code",
   "execution_count": 223,
   "metadata": {},
   "outputs": [],
   "source": [
    "X = df[['int_rate', 'inq_last_6mths', 'funded_amnt','loan_amnt','funded_amnt_inv','delinq_2yrs','annual_inc','revol_bal','delinq_2yrs','open_acc', 'grade_map']]\n",
    "y = df[['loan_status']]"
   ]
  },
  {
   "cell_type": "code",
   "execution_count": 224,
   "metadata": {},
   "outputs": [
    {
     "data": {
      "text/plain": [
       "array([5, 6, 4, 3, 2, 0, 1], dtype=int64)"
      ]
     },
     "execution_count": 224,
     "metadata": {},
     "output_type": "execute_result"
    }
   ],
   "source": [
    "df['grade_map'].unique()"
   ]
  },
  {
   "cell_type": "code",
   "execution_count": 225,
   "metadata": {},
   "outputs": [
    {
     "data": {
      "text/html": [
       "<div>\n",
       "<style scoped>\n",
       "    .dataframe tbody tr th:only-of-type {\n",
       "        vertical-align: middle;\n",
       "    }\n",
       "\n",
       "    .dataframe tbody tr th {\n",
       "        vertical-align: top;\n",
       "    }\n",
       "\n",
       "    .dataframe thead th {\n",
       "        text-align: right;\n",
       "    }\n",
       "</style>\n",
       "<table border=\"1\" class=\"dataframe\">\n",
       "  <thead>\n",
       "    <tr style=\"text-align: right;\">\n",
       "      <th></th>\n",
       "      <th>loan_status</th>\n",
       "    </tr>\n",
       "  </thead>\n",
       "  <tbody>\n",
       "    <tr>\n",
       "      <th>0</th>\n",
       "      <td>0</td>\n",
       "    </tr>\n",
       "    <tr>\n",
       "      <th>1</th>\n",
       "      <td>0</td>\n",
       "    </tr>\n",
       "  </tbody>\n",
       "</table>\n",
       "</div>"
      ],
      "text/plain": [
       "   loan_status\n",
       "0            0\n",
       "1            0"
      ]
     },
     "execution_count": 225,
     "metadata": {},
     "output_type": "execute_result"
    }
   ],
   "source": [
    "y.head(2)"
   ]
  },
  {
   "cell_type": "code",
   "execution_count": 226,
   "metadata": {},
   "outputs": [
    {
     "data": {
      "text/html": [
       "<div>\n",
       "<style scoped>\n",
       "    .dataframe tbody tr th:only-of-type {\n",
       "        vertical-align: middle;\n",
       "    }\n",
       "\n",
       "    .dataframe tbody tr th {\n",
       "        vertical-align: top;\n",
       "    }\n",
       "\n",
       "    .dataframe thead th {\n",
       "        text-align: right;\n",
       "    }\n",
       "</style>\n",
       "<table border=\"1\" class=\"dataframe\">\n",
       "  <thead>\n",
       "    <tr style=\"text-align: right;\">\n",
       "      <th></th>\n",
       "      <th>int_rate</th>\n",
       "      <th>inq_last_6mths</th>\n",
       "      <th>funded_amnt</th>\n",
       "      <th>loan_amnt</th>\n",
       "      <th>funded_amnt_inv</th>\n",
       "      <th>delinq_2yrs</th>\n",
       "      <th>annual_inc</th>\n",
       "      <th>revol_bal</th>\n",
       "      <th>delinq_2yrs</th>\n",
       "      <th>open_acc</th>\n",
       "      <th>grade_map</th>\n",
       "    </tr>\n",
       "  </thead>\n",
       "  <tbody>\n",
       "    <tr>\n",
       "      <th>0</th>\n",
       "      <td>9.17</td>\n",
       "      <td>2.0</td>\n",
       "      <td>22000</td>\n",
       "      <td>22000</td>\n",
       "      <td>22000.0</td>\n",
       "      <td>0.0</td>\n",
       "      <td>73000.0</td>\n",
       "      <td>33797</td>\n",
       "      <td>0.0</td>\n",
       "      <td>7.0</td>\n",
       "      <td>5</td>\n",
       "    </tr>\n",
       "    <tr>\n",
       "      <th>1</th>\n",
       "      <td>5.32</td>\n",
       "      <td>0.0</td>\n",
       "      <td>8000</td>\n",
       "      <td>8000</td>\n",
       "      <td>8000.0</td>\n",
       "      <td>0.0</td>\n",
       "      <td>89000.0</td>\n",
       "      <td>5405</td>\n",
       "      <td>0.0</td>\n",
       "      <td>8.0</td>\n",
       "      <td>6</td>\n",
       "    </tr>\n",
       "  </tbody>\n",
       "</table>\n",
       "</div>"
      ],
      "text/plain": [
       "   int_rate  inq_last_6mths  funded_amnt  loan_amnt  funded_amnt_inv  \\\n",
       "0      9.17             2.0        22000      22000          22000.0   \n",
       "1      5.32             0.0         8000       8000           8000.0   \n",
       "\n",
       "   delinq_2yrs  annual_inc  revol_bal  delinq_2yrs  open_acc  grade_map  \n",
       "0          0.0     73000.0      33797          0.0       7.0          5  \n",
       "1          0.0     89000.0       5405          0.0       8.0          6  "
      ]
     },
     "execution_count": 226,
     "metadata": {},
     "output_type": "execute_result"
    }
   ],
   "source": [
    "X.head(2)"
   ]
  },
  {
   "cell_type": "markdown",
   "metadata": {},
   "source": [
    "**Importing the Models**"
   ]
  },
  {
   "cell_type": "code",
   "execution_count": 227,
   "metadata": {},
   "outputs": [],
   "source": [
    "from sklearn.model_selection import train_test_split\n",
    "from sklearn import metrics\n",
    "\n",
    "from sklearn import svm\n",
    "from sklearn.neighbors import KNeighborsClassifier\n",
    "from sklearn.linear_model import LogisticRegression\n",
    "from sklearn.tree import DecisionTreeClassifier\n",
    "from sklearn.preprocessing import MinMaxScaler, StandardScaler"
   ]
  },
  {
   "cell_type": "code",
   "execution_count": 228,
   "metadata": {},
   "outputs": [],
   "source": [
    "X_train, X_test, y_train, y_test = train_test_split(X, y, test_size=0.33, random_state=42)"
   ]
  },
  {
   "cell_type": "markdown",
   "metadata": {},
   "source": [
    "**Feature Scaling**"
   ]
  },
  {
   "cell_type": "code",
   "execution_count": 229,
   "metadata": {},
   "outputs": [],
   "source": [
    "minmax = MinMaxScaler()"
   ]
  },
  {
   "cell_type": "code",
   "execution_count": 230,
   "metadata": {},
   "outputs": [
    {
     "data": {
      "text/plain": [
       "Index(['int_rate', 'inq_last_6mths', 'funded_amnt', 'loan_amnt',\n",
       "       'funded_amnt_inv', 'delinq_2yrs', 'annual_inc', 'revol_bal',\n",
       "       'delinq_2yrs', 'open_acc', 'grade_map'],\n",
       "      dtype='object')"
      ]
     },
     "execution_count": 230,
     "metadata": {},
     "output_type": "execute_result"
    }
   ],
   "source": [
    "columns = X_train.columns\n",
    "columns "
   ]
  },
  {
   "cell_type": "code",
   "execution_count": 231,
   "metadata": {},
   "outputs": [],
   "source": [
    "minmax_train = minmax.fit_transform(X_train)"
   ]
  },
  {
   "cell_type": "code",
   "execution_count": 232,
   "metadata": {},
   "outputs": [
    {
     "data": {
      "text/html": [
       "<div>\n",
       "<style scoped>\n",
       "    .dataframe tbody tr th:only-of-type {\n",
       "        vertical-align: middle;\n",
       "    }\n",
       "\n",
       "    .dataframe tbody tr th {\n",
       "        vertical-align: top;\n",
       "    }\n",
       "\n",
       "    .dataframe thead th {\n",
       "        text-align: right;\n",
       "    }\n",
       "</style>\n",
       "<table border=\"1\" class=\"dataframe\">\n",
       "  <thead>\n",
       "    <tr style=\"text-align: right;\">\n",
       "      <th></th>\n",
       "      <th>int_rate</th>\n",
       "      <th>inq_last_6mths</th>\n",
       "      <th>funded_amnt</th>\n",
       "      <th>loan_amnt</th>\n",
       "      <th>funded_amnt_inv</th>\n",
       "      <th>delinq_2yrs</th>\n",
       "      <th>annual_inc</th>\n",
       "      <th>revol_bal</th>\n",
       "      <th>delinq_2yrs</th>\n",
       "      <th>open_acc</th>\n",
       "      <th>grade_map</th>\n",
       "    </tr>\n",
       "  </thead>\n",
       "  <tbody>\n",
       "    <tr>\n",
       "      <th>0</th>\n",
       "      <td>0.318536</td>\n",
       "      <td>0.250</td>\n",
       "      <td>0.153846</td>\n",
       "      <td>0.153846</td>\n",
       "      <td>0.1750</td>\n",
       "      <td>0.000000</td>\n",
       "      <td>0.012000</td>\n",
       "      <td>0.033829</td>\n",
       "      <td>0.000000</td>\n",
       "      <td>0.189189</td>\n",
       "      <td>0.666667</td>\n",
       "    </tr>\n",
       "    <tr>\n",
       "      <th>1</th>\n",
       "      <td>0.408489</td>\n",
       "      <td>0.125</td>\n",
       "      <td>0.179487</td>\n",
       "      <td>0.179487</td>\n",
       "      <td>0.2000</td>\n",
       "      <td>0.000000</td>\n",
       "      <td>0.011667</td>\n",
       "      <td>0.006983</td>\n",
       "      <td>0.000000</td>\n",
       "      <td>0.162162</td>\n",
       "      <td>0.666667</td>\n",
       "    </tr>\n",
       "    <tr>\n",
       "      <th>2</th>\n",
       "      <td>0.655763</td>\n",
       "      <td>0.125</td>\n",
       "      <td>0.294872</td>\n",
       "      <td>0.294872</td>\n",
       "      <td>0.3125</td>\n",
       "      <td>0.000000</td>\n",
       "      <td>0.007509</td>\n",
       "      <td>0.006681</td>\n",
       "      <td>0.000000</td>\n",
       "      <td>0.162162</td>\n",
       "      <td>0.333333</td>\n",
       "    </tr>\n",
       "    <tr>\n",
       "      <th>3</th>\n",
       "      <td>0.182243</td>\n",
       "      <td>0.375</td>\n",
       "      <td>0.220513</td>\n",
       "      <td>0.220513</td>\n",
       "      <td>0.2400</td>\n",
       "      <td>0.090909</td>\n",
       "      <td>0.004400</td>\n",
       "      <td>0.005068</td>\n",
       "      <td>0.090909</td>\n",
       "      <td>0.135135</td>\n",
       "      <td>0.833333</td>\n",
       "    </tr>\n",
       "    <tr>\n",
       "      <th>4</th>\n",
       "      <td>0.287383</td>\n",
       "      <td>0.000</td>\n",
       "      <td>0.487179</td>\n",
       "      <td>0.487179</td>\n",
       "      <td>0.5000</td>\n",
       "      <td>0.000000</td>\n",
       "      <td>0.011167</td>\n",
       "      <td>0.023803</td>\n",
       "      <td>0.000000</td>\n",
       "      <td>0.148649</td>\n",
       "      <td>0.666667</td>\n",
       "    </tr>\n",
       "  </tbody>\n",
       "</table>\n",
       "</div>"
      ],
      "text/plain": [
       "   int_rate  inq_last_6mths  funded_amnt  loan_amnt  funded_amnt_inv  \\\n",
       "0  0.318536           0.250     0.153846   0.153846           0.1750   \n",
       "1  0.408489           0.125     0.179487   0.179487           0.2000   \n",
       "2  0.655763           0.125     0.294872   0.294872           0.3125   \n",
       "3  0.182243           0.375     0.220513   0.220513           0.2400   \n",
       "4  0.287383           0.000     0.487179   0.487179           0.5000   \n",
       "\n",
       "   delinq_2yrs  annual_inc  revol_bal  delinq_2yrs  open_acc  grade_map  \n",
       "0     0.000000    0.012000   0.033829     0.000000  0.189189   0.666667  \n",
       "1     0.000000    0.011667   0.006983     0.000000  0.162162   0.666667  \n",
       "2     0.000000    0.007509   0.006681     0.000000  0.162162   0.333333  \n",
       "3     0.090909    0.004400   0.005068     0.090909  0.135135   0.833333  \n",
       "4     0.000000    0.011167   0.023803     0.000000  0.148649   0.666667  "
      ]
     },
     "execution_count": 232,
     "metadata": {},
     "output_type": "execute_result"
    }
   ],
   "source": [
    "minmax_train = pd.DataFrame(minmax_train, columns = columns)\n",
    "minmax_train.head()"
   ]
  },
  {
   "cell_type": "code",
   "execution_count": 233,
   "metadata": {},
   "outputs": [
    {
     "data": {
      "text/html": [
       "<div>\n",
       "<style scoped>\n",
       "    .dataframe tbody tr th:only-of-type {\n",
       "        vertical-align: middle;\n",
       "    }\n",
       "\n",
       "    .dataframe tbody tr th {\n",
       "        vertical-align: top;\n",
       "    }\n",
       "\n",
       "    .dataframe thead th {\n",
       "        text-align: right;\n",
       "    }\n",
       "</style>\n",
       "<table border=\"1\" class=\"dataframe\">\n",
       "  <thead>\n",
       "    <tr style=\"text-align: right;\">\n",
       "      <th></th>\n",
       "      <th>int_rate</th>\n",
       "      <th>inq_last_6mths</th>\n",
       "      <th>funded_amnt</th>\n",
       "      <th>loan_amnt</th>\n",
       "      <th>funded_amnt_inv</th>\n",
       "      <th>delinq_2yrs</th>\n",
       "      <th>annual_inc</th>\n",
       "      <th>revol_bal</th>\n",
       "      <th>delinq_2yrs</th>\n",
       "      <th>open_acc</th>\n",
       "      <th>grade_map</th>\n",
       "    </tr>\n",
       "  </thead>\n",
       "  <tbody>\n",
       "    <tr>\n",
       "      <th>count</th>\n",
       "      <td>85300.000000</td>\n",
       "      <td>85300.000000</td>\n",
       "      <td>85300.000000</td>\n",
       "      <td>85300.000000</td>\n",
       "      <td>85300.000000</td>\n",
       "      <td>85300.000000</td>\n",
       "      <td>85300.000000</td>\n",
       "      <td>85300.000000</td>\n",
       "      <td>85300.000000</td>\n",
       "      <td>85300.000000</td>\n",
       "      <td>85300.000000</td>\n",
       "    </tr>\n",
       "    <tr>\n",
       "      <th>mean</th>\n",
       "      <td>0.309596</td>\n",
       "      <td>0.082302</td>\n",
       "      <td>0.344010</td>\n",
       "      <td>0.344219</td>\n",
       "      <td>0.359850</td>\n",
       "      <td>0.014381</td>\n",
       "      <td>0.012686</td>\n",
       "      <td>0.015913</td>\n",
       "      <td>0.014381</td>\n",
       "      <td>0.156407</td>\n",
       "      <td>0.708029</td>\n",
       "    </tr>\n",
       "    <tr>\n",
       "      <th>std</th>\n",
       "      <td>0.185380</td>\n",
       "      <td>0.117615</td>\n",
       "      <td>0.223110</td>\n",
       "      <td>0.223221</td>\n",
       "      <td>0.217567</td>\n",
       "      <td>0.039869</td>\n",
       "      <td>0.009702</td>\n",
       "      <td>0.021912</td>\n",
       "      <td>0.039869</td>\n",
       "      <td>0.073852</td>\n",
       "      <td>0.216410</td>\n",
       "    </tr>\n",
       "    <tr>\n",
       "      <th>min</th>\n",
       "      <td>0.000000</td>\n",
       "      <td>0.000000</td>\n",
       "      <td>0.000000</td>\n",
       "      <td>0.000000</td>\n",
       "      <td>0.000000</td>\n",
       "      <td>0.000000</td>\n",
       "      <td>0.000000</td>\n",
       "      <td>0.000000</td>\n",
       "      <td>0.000000</td>\n",
       "      <td>0.000000</td>\n",
       "      <td>0.000000</td>\n",
       "    </tr>\n",
       "    <tr>\n",
       "      <th>25%</th>\n",
       "      <td>0.172897</td>\n",
       "      <td>0.000000</td>\n",
       "      <td>0.179487</td>\n",
       "      <td>0.179487</td>\n",
       "      <td>0.197500</td>\n",
       "      <td>0.000000</td>\n",
       "      <td>0.007667</td>\n",
       "      <td>0.005818</td>\n",
       "      <td>0.000000</td>\n",
       "      <td>0.108108</td>\n",
       "      <td>0.500000</td>\n",
       "    </tr>\n",
       "    <tr>\n",
       "      <th>50%</th>\n",
       "      <td>0.289330</td>\n",
       "      <td>0.000000</td>\n",
       "      <td>0.282051</td>\n",
       "      <td>0.282051</td>\n",
       "      <td>0.300000</td>\n",
       "      <td>0.000000</td>\n",
       "      <td>0.010833</td>\n",
       "      <td>0.010889</td>\n",
       "      <td>0.000000</td>\n",
       "      <td>0.148649</td>\n",
       "      <td>0.666667</td>\n",
       "    </tr>\n",
       "    <tr>\n",
       "      <th>75%</th>\n",
       "      <td>0.417056</td>\n",
       "      <td>0.125000</td>\n",
       "      <td>0.487179</td>\n",
       "      <td>0.487179</td>\n",
       "      <td>0.500000</td>\n",
       "      <td>0.000000</td>\n",
       "      <td>0.015000</td>\n",
       "      <td>0.019173</td>\n",
       "      <td>0.000000</td>\n",
       "      <td>0.189189</td>\n",
       "      <td>0.833333</td>\n",
       "    </tr>\n",
       "    <tr>\n",
       "      <th>max</th>\n",
       "      <td>1.000000</td>\n",
       "      <td>1.000000</td>\n",
       "      <td>1.000000</td>\n",
       "      <td>1.000000</td>\n",
       "      <td>1.000000</td>\n",
       "      <td>1.000000</td>\n",
       "      <td>1.000000</td>\n",
       "      <td>1.000000</td>\n",
       "      <td>1.000000</td>\n",
       "      <td>1.000000</td>\n",
       "      <td>1.000000</td>\n",
       "    </tr>\n",
       "  </tbody>\n",
       "</table>\n",
       "</div>"
      ],
      "text/plain": [
       "           int_rate  inq_last_6mths   funded_amnt     loan_amnt  \\\n",
       "count  85300.000000    85300.000000  85300.000000  85300.000000   \n",
       "mean       0.309596        0.082302      0.344010      0.344219   \n",
       "std        0.185380        0.117615      0.223110      0.223221   \n",
       "min        0.000000        0.000000      0.000000      0.000000   \n",
       "25%        0.172897        0.000000      0.179487      0.179487   \n",
       "50%        0.289330        0.000000      0.282051      0.282051   \n",
       "75%        0.417056        0.125000      0.487179      0.487179   \n",
       "max        1.000000        1.000000      1.000000      1.000000   \n",
       "\n",
       "       funded_amnt_inv   delinq_2yrs    annual_inc     revol_bal  \\\n",
       "count     85300.000000  85300.000000  85300.000000  85300.000000   \n",
       "mean          0.359850      0.014381      0.012686      0.015913   \n",
       "std           0.217567      0.039869      0.009702      0.021912   \n",
       "min           0.000000      0.000000      0.000000      0.000000   \n",
       "25%           0.197500      0.000000      0.007667      0.005818   \n",
       "50%           0.300000      0.000000      0.010833      0.010889   \n",
       "75%           0.500000      0.000000      0.015000      0.019173   \n",
       "max           1.000000      1.000000      1.000000      1.000000   \n",
       "\n",
       "        delinq_2yrs      open_acc     grade_map  \n",
       "count  85300.000000  85300.000000  85300.000000  \n",
       "mean       0.014381      0.156407      0.708029  \n",
       "std        0.039869      0.073852      0.216410  \n",
       "min        0.000000      0.000000      0.000000  \n",
       "25%        0.000000      0.108108      0.500000  \n",
       "50%        0.000000      0.148649      0.666667  \n",
       "75%        0.000000      0.189189      0.833333  \n",
       "max        1.000000      1.000000      1.000000  "
      ]
     },
     "execution_count": 233,
     "metadata": {},
     "output_type": "execute_result"
    }
   ],
   "source": [
    "minmax_train.describe()"
   ]
  },
  {
   "cell_type": "code",
   "execution_count": 234,
   "metadata": {},
   "outputs": [],
   "source": [
    "minmax_train = minmax.fit_transform(X_train)\n",
    "minmax_test = minmax.fit_transform(X_test)"
   ]
  },
  {
   "cell_type": "code",
   "execution_count": null,
   "metadata": {},
   "outputs": [],
   "source": []
  },
  {
   "cell_type": "markdown",
   "metadata": {},
   "source": [
    "**Logistic Regression**"
   ]
  },
  {
   "cell_type": "code",
   "execution_count": 235,
   "metadata": {},
   "outputs": [],
   "source": [
    "from sklearn.linear_model import LogisticRegression"
   ]
  },
  {
   "cell_type": "code",
   "execution_count": 236,
   "metadata": {},
   "outputs": [],
   "source": [
    "model = LogisticRegression()"
   ]
  },
  {
   "cell_type": "code",
   "execution_count": 237,
   "metadata": {},
   "outputs": [
    {
     "name": "stderr",
     "output_type": "stream",
     "text": [
      "C:\\Users\\hp\\Anaconda3\\lib\\site-packages\\sklearn\\linear_model\\logistic.py:432: FutureWarning: Default solver will be changed to 'lbfgs' in 0.22. Specify a solver to silence this warning.\n",
      "  FutureWarning)\n",
      "C:\\Users\\hp\\Anaconda3\\lib\\site-packages\\sklearn\\utils\\validation.py:724: DataConversionWarning: A column-vector y was passed when a 1d array was expected. Please change the shape of y to (n_samples, ), for example using ravel().\n",
      "  y = column_or_1d(y, warn=True)\n"
     ]
    },
    {
     "data": {
      "text/plain": [
       "LogisticRegression(C=1.0, class_weight=None, dual=False, fit_intercept=True,\n",
       "                   intercept_scaling=1, l1_ratio=None, max_iter=100,\n",
       "                   multi_class='warn', n_jobs=None, penalty='l2',\n",
       "                   random_state=None, solver='warn', tol=0.0001, verbose=0,\n",
       "                   warm_start=False)"
      ]
     },
     "execution_count": 237,
     "metadata": {},
     "output_type": "execute_result"
    }
   ],
   "source": [
    "model.fit(X_train,y_train)"
   ]
  },
  {
   "cell_type": "code",
   "execution_count": 238,
   "metadata": {},
   "outputs": [],
   "source": [
    "y_predict = model.predict(X_train)\n",
    "y_test_predict = model.predict(X_test)"
   ]
  },
  {
   "cell_type": "code",
   "execution_count": 239,
   "metadata": {},
   "outputs": [
    {
     "data": {
      "text/plain": [
       "0.7988980070339976"
      ]
     },
     "execution_count": 239,
     "metadata": {},
     "output_type": "execute_result"
    }
   ],
   "source": [
    "metrics.accuracy_score(y_predict,y_train)"
   ]
  },
  {
   "cell_type": "code",
   "execution_count": 240,
   "metadata": {},
   "outputs": [
    {
     "data": {
      "text/plain": [
       "0.7989717713143238"
      ]
     },
     "execution_count": 240,
     "metadata": {},
     "output_type": "execute_result"
    }
   ],
   "source": [
    "metrics.accuracy_score(y_test_predict,y_test)"
   ]
  },
  {
   "cell_type": "code",
   "execution_count": 247,
   "metadata": {},
   "outputs": [
    {
     "data": {
      "text/plain": [
       "array([[33564,     1],\n",
       "       [ 8445,     4]], dtype=int64)"
      ]
     },
     "execution_count": 247,
     "metadata": {},
     "output_type": "execute_result"
    }
   ],
   "source": [
    "metrics.confusion_matrix(y_test,y_test_predict)"
   ]
  },
  {
   "cell_type": "code",
   "execution_count": 250,
   "metadata": {},
   "outputs": [
    {
     "data": {
      "text/plain": [
       "'              precision    recall  f1-score   support\\n\\n           0       0.80      1.00      0.89     33565\\n           1       0.80      0.00      0.00      8449\\n\\n    accuracy                           0.80     42014\\n   macro avg       0.80      0.50      0.44     42014\\nweighted avg       0.80      0.80      0.71     42014\\n'"
      ]
     },
     "execution_count": 250,
     "metadata": {},
     "output_type": "execute_result"
    }
   ],
   "source": [
    "metrics.classification_report(y_test,y_test_predict)"
   ]
  },
  {
   "cell_type": "markdown",
   "metadata": {},
   "source": [
    "**support vector machine**"
   ]
  },
  {
   "cell_type": "code",
   "execution_count": null,
   "metadata": {},
   "outputs": [],
   "source": []
  },
  {
   "cell_type": "markdown",
   "metadata": {},
   "source": [
    "**Decision Tree Classifier**"
   ]
  },
  {
   "cell_type": "code",
   "execution_count": 241,
   "metadata": {},
   "outputs": [],
   "source": [
    "model_tree = DecisionTreeClassifier()"
   ]
  },
  {
   "cell_type": "code",
   "execution_count": 242,
   "metadata": {},
   "outputs": [
    {
     "data": {
      "text/plain": [
       "DecisionTreeClassifier(class_weight=None, criterion='gini', max_depth=None,\n",
       "                       max_features=None, max_leaf_nodes=None,\n",
       "                       min_impurity_decrease=0.0, min_impurity_split=None,\n",
       "                       min_samples_leaf=1, min_samples_split=2,\n",
       "                       min_weight_fraction_leaf=0.0, presort=False,\n",
       "                       random_state=None, splitter='best')"
      ]
     },
     "execution_count": 242,
     "metadata": {},
     "output_type": "execute_result"
    }
   ],
   "source": [
    "model_tree.fit(X_train,y_train)"
   ]
  },
  {
   "cell_type": "code",
   "execution_count": 243,
   "metadata": {},
   "outputs": [
    {
     "data": {
      "text/plain": [
       "array([1, 1, 1, ..., 0, 0, 1], dtype=int64)"
      ]
     },
     "execution_count": 243,
     "metadata": {},
     "output_type": "execute_result"
    }
   ],
   "source": [
    "tree_predict = model_tree.predict(X_test)\n",
    "tree_predict"
   ]
  },
  {
   "cell_type": "code",
   "execution_count": 244,
   "metadata": {},
   "outputs": [
    {
     "data": {
      "text/plain": [
       "0.6929356881039653"
      ]
     },
     "execution_count": 244,
     "metadata": {},
     "output_type": "execute_result"
    }
   ],
   "source": [
    "metrics.accuracy_score(y_test,tree_predict)"
   ]
  },
  {
   "cell_type": "code",
   "execution_count": null,
   "metadata": {},
   "outputs": [],
   "source": []
  },
  {
   "cell_type": "code",
   "execution_count": null,
   "metadata": {},
   "outputs": [],
   "source": []
  },
  {
   "cell_type": "code",
   "execution_count": null,
   "metadata": {},
   "outputs": [],
   "source": []
  },
  {
   "cell_type": "code",
   "execution_count": null,
   "metadata": {},
   "outputs": [],
   "source": []
  }
 ],
 "metadata": {
  "kernelspec": {
   "display_name": "Python 3",
   "language": "python",
   "name": "python3"
  },
  "language_info": {
   "codemirror_mode": {
    "name": "ipython",
    "version": 3
   },
   "file_extension": ".py",
   "mimetype": "text/x-python",
   "name": "python",
   "nbconvert_exporter": "python",
   "pygments_lexer": "ipython3",
   "version": "3.7.4"
  }
 },
 "nbformat": 4,
 "nbformat_minor": 2
}
